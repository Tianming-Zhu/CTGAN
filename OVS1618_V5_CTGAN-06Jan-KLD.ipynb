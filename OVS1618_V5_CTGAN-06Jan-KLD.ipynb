{
 "cells": [
  {
   "cell_type": "code",
   "execution_count": 1,
   "metadata": {},
   "outputs": [],
   "source": [
    "import torch\n",
    "import numpy as np\n",
    "\n",
    "torch.manual_seed(0)\n",
    "np.random.seed(0)"
   ]
  },
  {
   "cell_type": "code",
   "execution_count": 2,
   "metadata": {},
   "outputs": [],
   "source": [
    "# Import libraries\n",
    "import os\n",
    "import xlrd\n",
    "import math\n",
    "import zipfile\n",
    "import numbers\n",
    "import numpy as np\n",
    "import pandas as pd\n",
    "import seaborn as sns\n",
    "import scipy.stats as stats\n",
    "import matplotlib.pyplot as plt\n",
    "from pathlib import Path\n",
    "import time\n",
    "from ctgan.tablegan import TableganSynthesizer\n",
    "from ctgan import CTGANSynthesizer\n",
    "from ctgan import TVAESynthesizer\n",
    "from sklearn.model_selection import train_test_split"
   ]
  },
  {
   "cell_type": "code",
   "execution_count": 3,
   "metadata": {},
   "outputs": [],
   "source": [
    "num_epochs = 300"
   ]
  },
  {
   "cell_type": "code",
   "execution_count": 4,
   "metadata": {},
   "outputs": [],
   "source": [
    "home = str(Path.home())"
   ]
  },
  {
   "cell_type": "code",
   "execution_count": 5,
   "metadata": {},
   "outputs": [
    {
     "data": {
      "text/plain": [
       "'C:\\\\Users\\\\stazt'"
      ]
     },
     "execution_count": 5,
     "metadata": {},
     "output_type": "execute_result"
    }
   ],
   "source": [
    "home"
   ]
  },
  {
   "cell_type": "code",
   "execution_count": 6,
   "metadata": {},
   "outputs": [],
   "source": [
    "# Load cleaned 2016-2018 OVS datasets; replace NAs by -1\n",
    "OVS1618 = pd.read_csv(home + '/Documents/nBox/Project Ultron/Milestone 3/Dataset/Cleaned (Outliers Removed)/Reduced to Benchmarks-1.csv')"
   ]
  },
  {
   "cell_type": "code",
   "execution_count": 7,
   "metadata": {},
   "outputs": [
    {
     "data": {
      "text/html": [
       "<div>\n",
       "<style scoped>\n",
       "    .dataframe tbody tr th:only-of-type {\n",
       "        vertical-align: middle;\n",
       "    }\n",
       "\n",
       "    .dataframe tbody tr th {\n",
       "        vertical-align: top;\n",
       "    }\n",
       "\n",
       "    .dataframe thead th {\n",
       "        text-align: right;\n",
       "    }\n",
       "</style>\n",
       "<table border=\"1\" class=\"dataframe\">\n",
       "  <thead>\n",
       "    <tr style=\"text-align: right;\">\n",
       "      <th></th>\n",
       "      <th>Expenditure on Accommodation (c4.tot.new)</th>\n",
       "      <th>Expenditure on Accommodation (c4.tot.new)_cat</th>\n",
       "      <th>Expenditure on F&amp;B (c6.tot.new)</th>\n",
       "      <th>Expenditure on F&amp;B (c6.tot.new)_cat</th>\n",
       "      <th>Expenditure on Hawker Centre, Food Court or Coffee Shop (c6c_1.r)</th>\n",
       "      <th>Expenditure on Hawker Centre, Food Court or Coffee Shop (c6c_1.r)_cat</th>\n",
       "      <th>Expenditure on Casual Dining (c6c_2.r)</th>\n",
       "      <th>Expenditure on Casual Dining (c6c_2.r)_cat</th>\n",
       "      <th>Expenditure on Transport (c7.tot.new)</th>\n",
       "      <th>Expenditure on Transport (c7.tot.new)_cat</th>\n",
       "      <th>...</th>\n",
       "      <th>Mode of Transport (m1)</th>\n",
       "      <th>Main POV - Leisure/Holiday (b13a_112)</th>\n",
       "      <th>Main POV - Visiting Friends/Family (b13a_114)</th>\n",
       "      <th>Main POV - Business (b13a_116)</th>\n",
       "      <th>Main POV - Healthcare (b113_117)</th>\n",
       "      <th>Main POV - Education/Training/Workshop (b13a_118)</th>\n",
       "      <th>Main POV - Others (b13a_119)</th>\n",
       "      <th>Travel Package (c1a)</th>\n",
       "      <th>Accommodation - Hotels (c4a_1, c4a_2, c4a_3)</th>\n",
       "      <th>Accommodation - Others (c4a_4, c4a_5, c4a_7, c4a_8)</th>\n",
       "    </tr>\n",
       "  </thead>\n",
       "  <tbody>\n",
       "    <tr>\n",
       "      <th>0</th>\n",
       "      <td>679.04</td>\n",
       "      <td>0</td>\n",
       "      <td>400.0</td>\n",
       "      <td>0</td>\n",
       "      <td>-1.0</td>\n",
       "      <td>1</td>\n",
       "      <td>400.0</td>\n",
       "      <td>0</td>\n",
       "      <td>50.0</td>\n",
       "      <td>0</td>\n",
       "      <td>...</td>\n",
       "      <td>1</td>\n",
       "      <td>1</td>\n",
       "      <td>0</td>\n",
       "      <td>0</td>\n",
       "      <td>0</td>\n",
       "      <td>0</td>\n",
       "      <td>0</td>\n",
       "      <td>1</td>\n",
       "      <td>1</td>\n",
       "      <td>0</td>\n",
       "    </tr>\n",
       "    <tr>\n",
       "      <th>1</th>\n",
       "      <td>-1.00</td>\n",
       "      <td>1</td>\n",
       "      <td>130.0</td>\n",
       "      <td>0</td>\n",
       "      <td>100.0</td>\n",
       "      <td>0</td>\n",
       "      <td>30.0</td>\n",
       "      <td>0</td>\n",
       "      <td>100.0</td>\n",
       "      <td>0</td>\n",
       "      <td>...</td>\n",
       "      <td>1</td>\n",
       "      <td>1</td>\n",
       "      <td>1</td>\n",
       "      <td>0</td>\n",
       "      <td>0</td>\n",
       "      <td>0</td>\n",
       "      <td>0</td>\n",
       "      <td>2</td>\n",
       "      <td>0</td>\n",
       "      <td>0</td>\n",
       "    </tr>\n",
       "    <tr>\n",
       "      <th>2</th>\n",
       "      <td>-1.00</td>\n",
       "      <td>1</td>\n",
       "      <td>120.0</td>\n",
       "      <td>0</td>\n",
       "      <td>120.0</td>\n",
       "      <td>0</td>\n",
       "      <td>-1.0</td>\n",
       "      <td>1</td>\n",
       "      <td>40.0</td>\n",
       "      <td>0</td>\n",
       "      <td>...</td>\n",
       "      <td>1</td>\n",
       "      <td>0</td>\n",
       "      <td>0</td>\n",
       "      <td>0</td>\n",
       "      <td>0</td>\n",
       "      <td>0</td>\n",
       "      <td>0</td>\n",
       "      <td>2</td>\n",
       "      <td>0</td>\n",
       "      <td>0</td>\n",
       "    </tr>\n",
       "    <tr>\n",
       "      <th>3</th>\n",
       "      <td>-1.00</td>\n",
       "      <td>1</td>\n",
       "      <td>80.0</td>\n",
       "      <td>0</td>\n",
       "      <td>-1.0</td>\n",
       "      <td>1</td>\n",
       "      <td>80.0</td>\n",
       "      <td>0</td>\n",
       "      <td>100.0</td>\n",
       "      <td>0</td>\n",
       "      <td>...</td>\n",
       "      <td>1</td>\n",
       "      <td>1</td>\n",
       "      <td>1</td>\n",
       "      <td>0</td>\n",
       "      <td>0</td>\n",
       "      <td>0</td>\n",
       "      <td>0</td>\n",
       "      <td>2</td>\n",
       "      <td>0</td>\n",
       "      <td>0</td>\n",
       "    </tr>\n",
       "    <tr>\n",
       "      <th>4</th>\n",
       "      <td>130.00</td>\n",
       "      <td>0</td>\n",
       "      <td>60.0</td>\n",
       "      <td>0</td>\n",
       "      <td>60.0</td>\n",
       "      <td>0</td>\n",
       "      <td>-1.0</td>\n",
       "      <td>1</td>\n",
       "      <td>40.0</td>\n",
       "      <td>0</td>\n",
       "      <td>...</td>\n",
       "      <td>1</td>\n",
       "      <td>1</td>\n",
       "      <td>0</td>\n",
       "      <td>0</td>\n",
       "      <td>0</td>\n",
       "      <td>0</td>\n",
       "      <td>0</td>\n",
       "      <td>2</td>\n",
       "      <td>0</td>\n",
       "      <td>1</td>\n",
       "    </tr>\n",
       "  </tbody>\n",
       "</table>\n",
       "<p>5 rows × 38 columns</p>\n",
       "</div>"
      ],
      "text/plain": [
       "   Expenditure on Accommodation (c4.tot.new)  \\\n",
       "0                                     679.04   \n",
       "1                                      -1.00   \n",
       "2                                      -1.00   \n",
       "3                                      -1.00   \n",
       "4                                     130.00   \n",
       "\n",
       "   Expenditure on Accommodation (c4.tot.new)_cat  \\\n",
       "0                                              0   \n",
       "1                                              1   \n",
       "2                                              1   \n",
       "3                                              1   \n",
       "4                                              0   \n",
       "\n",
       "   Expenditure on F&B (c6.tot.new)  Expenditure on F&B (c6.tot.new)_cat  \\\n",
       "0                            400.0                                    0   \n",
       "1                            130.0                                    0   \n",
       "2                            120.0                                    0   \n",
       "3                             80.0                                    0   \n",
       "4                             60.0                                    0   \n",
       "\n",
       "   Expenditure on Hawker Centre, Food Court or Coffee Shop (c6c_1.r)  \\\n",
       "0                                               -1.0                   \n",
       "1                                              100.0                   \n",
       "2                                              120.0                   \n",
       "3                                               -1.0                   \n",
       "4                                               60.0                   \n",
       "\n",
       "   Expenditure on Hawker Centre, Food Court or Coffee Shop (c6c_1.r)_cat  \\\n",
       "0                                                  1                       \n",
       "1                                                  0                       \n",
       "2                                                  0                       \n",
       "3                                                  1                       \n",
       "4                                                  0                       \n",
       "\n",
       "   Expenditure on Casual Dining (c6c_2.r)  \\\n",
       "0                                   400.0   \n",
       "1                                    30.0   \n",
       "2                                    -1.0   \n",
       "3                                    80.0   \n",
       "4                                    -1.0   \n",
       "\n",
       "   Expenditure on Casual Dining (c6c_2.r)_cat  \\\n",
       "0                                           0   \n",
       "1                                           0   \n",
       "2                                           1   \n",
       "3                                           0   \n",
       "4                                           1   \n",
       "\n",
       "   Expenditure on Transport (c7.tot.new)  \\\n",
       "0                                   50.0   \n",
       "1                                  100.0   \n",
       "2                                   40.0   \n",
       "3                                  100.0   \n",
       "4                                   40.0   \n",
       "\n",
       "   Expenditure on Transport (c7.tot.new)_cat  ...  Mode of Transport (m1)  \\\n",
       "0                                          0  ...                       1   \n",
       "1                                          0  ...                       1   \n",
       "2                                          0  ...                       1   \n",
       "3                                          0  ...                       1   \n",
       "4                                          0  ...                       1   \n",
       "\n",
       "   Main POV - Leisure/Holiday (b13a_112)  \\\n",
       "0                                      1   \n",
       "1                                      1   \n",
       "2                                      0   \n",
       "3                                      1   \n",
       "4                                      1   \n",
       "\n",
       "   Main POV - Visiting Friends/Family (b13a_114)  \\\n",
       "0                                              0   \n",
       "1                                              1   \n",
       "2                                              0   \n",
       "3                                              1   \n",
       "4                                              0   \n",
       "\n",
       "   Main POV - Business (b13a_116)  Main POV - Healthcare (b113_117)  \\\n",
       "0                               0                                 0   \n",
       "1                               0                                 0   \n",
       "2                               0                                 0   \n",
       "3                               0                                 0   \n",
       "4                               0                                 0   \n",
       "\n",
       "   Main POV - Education/Training/Workshop (b13a_118)  \\\n",
       "0                                                  0   \n",
       "1                                                  0   \n",
       "2                                                  0   \n",
       "3                                                  0   \n",
       "4                                                  0   \n",
       "\n",
       "   Main POV - Others (b13a_119)  Travel Package (c1a)  \\\n",
       "0                             0                     1   \n",
       "1                             0                     2   \n",
       "2                             0                     2   \n",
       "3                             0                     2   \n",
       "4                             0                     2   \n",
       "\n",
       "   Accommodation - Hotels (c4a_1, c4a_2, c4a_3)  \\\n",
       "0                                             1   \n",
       "1                                             0   \n",
       "2                                             0   \n",
       "3                                             0   \n",
       "4                                             0   \n",
       "\n",
       "   Accommodation - Others (c4a_4, c4a_5, c4a_7, c4a_8)  \n",
       "0                                                  0    \n",
       "1                                                  0    \n",
       "2                                                  0    \n",
       "3                                                  0    \n",
       "4                                                  1    \n",
       "\n",
       "[5 rows x 38 columns]"
      ]
     },
     "execution_count": 7,
     "metadata": {},
     "output_type": "execute_result"
    }
   ],
   "source": [
    "OVS1618.head()"
   ]
  },
  {
   "cell_type": "code",
   "execution_count": 8,
   "metadata": {},
   "outputs": [
    {
     "data": {
      "text/plain": [
       "(66030, 38)"
      ]
     },
     "execution_count": 8,
     "metadata": {},
     "output_type": "execute_result"
    }
   ],
   "source": [
    "OVS1618.shape"
   ]
  },
  {
   "cell_type": "code",
   "execution_count": 9,
   "metadata": {},
   "outputs": [],
   "source": [
    "# List of 14 expenditure variables\n",
    "list_expnd = ['Expenditure on Accommodation (c4.tot.new)',\n",
    "              'Expenditure on F&B (c6.tot.new)',\n",
    "              'Expenditure on Hawker Centre, Food Court or Coffee Shop (c6c_1.r)',\n",
    "              'Expenditure on Casual Dining (c6c_2.r)',\n",
    "              'Expenditure on Transport (c7.tot.new)', \n",
    "              'Expenditure on Sightseeing & Entertainment (c10.tot.new)',\n",
    "              'Expenditure on Sightseeing (c10c_1.r)',\n",
    "              'Expenditure on Attractions (c10c_2.r)',\n",
    "              'Expenditure on Shopping (t7.m.any)',          \n",
    "              'Expenditure on Healthcare & Wellness Products (t7.m.well)',\n",
    "              'Expenditure on Confectionery & Food Items (t7.m.food)',\n",
    "              'Expenditure on Fashion (t7.m.fash)',\n",
    "              'Expenditure on Other Shopping Items (t7.m.gift + t7.m.oth)',\n",
    "              'Package Expenditure Per Person (c1b.r)']\n",
    "\n",
    "# List of 10 categorical variables\n",
    "list_cat = ['Mode of Transport (m1)',\n",
    "            'Main POV - Leisure/Holiday (b13a_112)',\n",
    "            'Main POV - Visiting Friends/Family (b13a_114)',\n",
    "            'Main POV - Business (b13a_116)',\n",
    "            'Main POV - Healthcare (b113_117)',\n",
    "            'Main POV - Education/Training/Workshop (b13a_118)',\n",
    "            'Main POV - Others (b13a_119)',\n",
    "            'Travel Package (c1a)',\n",
    "            'Accommodation - Hotels (c4a_1, c4a_2, c4a_3)',\n",
    "            'Accommodation - Others (c4a_4, c4a_5, c4a_7, c4a_8)']"
   ]
  },
  {
   "cell_type": "code",
   "execution_count": 10,
   "metadata": {},
   "outputs": [],
   "source": [
    "with open(home + '/Documents/nBox/Project Ultron/Milestone 3/Dataset/Cleaned (Outliers Removed)/binary_categorical_columns.txt',\"r+\")   as f:\n",
    "    new_cat_list = f.read().splitlines() "
   ]
  },
  {
   "cell_type": "code",
   "execution_count": 11,
   "metadata": {},
   "outputs": [
    {
     "data": {
      "text/plain": [
       "['Expenditure on Accommodation (c4.tot.new)_cat',\n",
       " 'Expenditure on F&B (c6.tot.new)_cat',\n",
       " 'Expenditure on Hawker Centre, Food Court or Coffee Shop (c6c_1.r)_cat',\n",
       " 'Expenditure on Casual Dining (c6c_2.r)_cat',\n",
       " 'Expenditure on Transport (c7.tot.new)_cat',\n",
       " 'Expenditure on Sightseeing & Entertainment (c10.tot.new)_cat',\n",
       " 'Expenditure on Sightseeing (c10c_1.r)_cat',\n",
       " 'Expenditure on Attractions (c10c_2.r)_cat',\n",
       " 'Expenditure on Shopping (t7.m.any)_cat',\n",
       " 'Expenditure on Healthcare & Wellness Products (t7.m.well)_cat',\n",
       " 'Expenditure on Confectionery & Food Items (t7.m.food)_cat',\n",
       " 'Expenditure on Fashion (t7.m.fash)_cat',\n",
       " 'Expenditure on Other Shopping Items (t7.m.gift + t7.m.oth)_cat',\n",
       " 'Package Expenditure Per Person (c1b.r)_cat']"
      ]
     },
     "execution_count": 11,
     "metadata": {},
     "output_type": "execute_result"
    }
   ],
   "source": [
    "new_cat_list"
   ]
  },
  {
   "cell_type": "code",
   "execution_count": 12,
   "metadata": {},
   "outputs": [],
   "source": [
    "cat_cols = new_cat_list + list_cat"
   ]
  },
  {
   "cell_type": "code",
   "execution_count": 13,
   "metadata": {},
   "outputs": [
    {
     "data": {
      "text/plain": [
       "24"
      ]
     },
     "execution_count": 13,
     "metadata": {},
     "output_type": "execute_result"
    }
   ],
   "source": [
    "len(cat_cols)"
   ]
  },
  {
   "cell_type": "code",
   "execution_count": 14,
   "metadata": {},
   "outputs": [],
   "source": [
    "## split data into training/validation/test\n",
    "OVS1618_train_val, OVS1618_test = train_test_split(OVS1618, test_size=0.15, random_state=42)"
   ]
  },
  {
   "cell_type": "code",
   "execution_count": 15,
   "metadata": {},
   "outputs": [
    {
     "data": {
      "text/plain": [
       "(56125, 38)"
      ]
     },
     "execution_count": 15,
     "metadata": {},
     "output_type": "execute_result"
    }
   ],
   "source": [
    "OVS1618_train_val.shape"
   ]
  },
  {
   "cell_type": "code",
   "execution_count": 16,
   "metadata": {},
   "outputs": [
    {
     "data": {
      "text/plain": [
       "(9905, 38)"
      ]
     },
     "execution_count": 16,
     "metadata": {},
     "output_type": "execute_result"
    }
   ],
   "source": [
    "OVS1618_test.shape"
   ]
  },
  {
   "cell_type": "code",
   "execution_count": 17,
   "metadata": {
    "scrolled": true
   },
   "outputs": [
    {
     "name": "stdout",
     "output_type": "stream",
     "text": [
      "Training CTGAN is starting\n",
      "Learning rate:  0.0002\n",
      "Batch size:  500\n",
      "Number of Epochs:  300\n",
      "training data shape:  (46247, 38)\n",
      "validation data shape:  (9878, 38)\n",
      "num_components 12\n",
      "num_components 13\n",
      "num_components 14\n",
      "num_components 15\n",
      "num_components 13\n",
      "num_components 12\n",
      "num_components 10\n",
      "num_components 14\n",
      "num_components 14\n",
      "num_components 11\n",
      "num_components 13\n",
      "num_components 11\n",
      "num_components 11\n",
      "num_components 7\n",
      "transformed data shape:  (46247, 233)\n",
      "data dimension: 233\n",
      "Dropout rate:  0.5\n",
      "[8.03182356e-01 1.27690405e-04 1.05421763e+00 1.46308727e-04\n",
      " 1.01698201e+00 1.35308674e-04 1.10412153e+00 1.18281088e-04\n",
      " 1.13115800e+00 1.35585491e-04 9.98989204e-01 1.28555527e-04\n",
      " 9.64951576e-01 1.29097419e-04 1.08347978e+00 1.36225607e-04\n",
      " 9.77383254e-01 1.38554566e-04 9.53350890e-01 1.28509401e-04\n",
      " 9.83206254e-01 1.29962170e-04 1.05109518e+00 1.05966536e-04\n",
      " 9.98831322e-01 1.16822083e-04 6.65102531e-01 1.43371083e-04\n",
      " 2.16603713e-04 1.26778371e-04 1.60810935e-04 1.36557276e-04\n",
      " 1.41884118e-04 1.17694414e-04 1.15647865e-04 1.43371083e-04\n",
      " 1.26021682e-04 1.02073639e-04]\n",
      "Epoch 1, Loss G: -0.2186, Loss D: 0.1567\n",
      "Epoch 2, Loss G: -0.8330, Loss D: 0.0226\n",
      "Epoch 3, Loss G: -1.2816, Loss D: -0.0616\n",
      "Epoch 4, Loss G: -1.7736, Loss D: 0.0685\n",
      "Epoch 5, Loss G: -2.4680, Loss D: -0.1816\n",
      "Epoch 6, Loss G: -2.3266, Loss D: 0.1555\n",
      "Epoch 7, Loss G: -2.2684, Loss D: 0.0877\n",
      "Epoch 8, Loss G: -2.4125, Loss D: -0.0835\n",
      "Epoch 9, Loss G: -2.3323, Loss D: -0.0248\n",
      "Epoch 10, Loss G: -1.8301, Loss D: -0.7444\n"
     ]
    }
   ],
   "source": [
    "ctgan = CTGANSynthesizer()\n",
    "print('Training CTGAN is starting')\n",
    "start_time = time.time()\n",
    "ctgan.fit(OVS1618_train_val, discrete_columns=cat_cols, epochs=10, model_summary=False, trans=\"VGM\",use_cond_gen=True)\n",
    "elapsed_time = time.time() - start_time"
   ]
  },
  {
   "cell_type": "code",
   "execution_count": 18,
   "metadata": {},
   "outputs": [
    {
     "data": {
      "image/png": "[encoded data removed]",
      "text/plain": [
       "<Figure size 864x288 with 2 Axes>"
      ]
     },
     "metadata": {
      "needs_background": "light"
     },
     "output_type": "display_data"
    }
   ],
   "source": [
    "fig, ax = plt.subplots(1, 2, figsize=(12,4))\n",
    "ax[0].plot(ctgan.generator_loss,'-g')\n",
    "ax[0].set_title('Generator Loss')\n",
    "\n",
    "ax[1].plot(ctgan.discriminator_loss,':b')\n",
    "ax[1].set_title('Discriminator Loss');"
   ]
  },
  {
   "cell_type": "code",
   "execution_count": 19,
   "metadata": {},
   "outputs": [
    {
     "data": {
      "image/png": "[encoded data removed]",
      "text/plain": [
       "<Figure size 864x504 with 1 Axes>"
      ]
     },
     "metadata": {
      "needs_background": "light"
     },
     "output_type": "display_data"
    }
   ],
   "source": [
    "plt.figure(figsize=(12,7))\n",
    "plt.plot(ctgan.prop_dis_train,'-g',label='training')\n",
    "plt.plot(ctgan.prop_dis_validation,':b',label='validation')\n",
    "plt.ylabel('Proportions of dissimilar columns')\n",
    "plt.legend(fontsize=15);"
   ]
  },
  {
   "cell_type": "code",
   "execution_count": null,
   "metadata": {},
   "outputs": [],
   "source": []
  }
 ],
 "metadata": {
  "kernelspec": {
   "display_name": "Python 3",
   "language": "python",
   "name": "python3"
  },
  "language_info": {
   "codemirror_mode": {
    "name": "ipython",
    "version": 3
   },
   "file_extension": ".py",
   "mimetype": "text/x-python",
   "name": "python",
   "nbconvert_exporter": "python",
   "pygments_lexer": "ipython3",
   "version": "3.8.5"
  }
 },
 "nbformat": 4,
 "nbformat_minor": 4
}
