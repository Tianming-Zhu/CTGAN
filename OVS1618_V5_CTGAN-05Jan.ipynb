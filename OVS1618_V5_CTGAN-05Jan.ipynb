{
 "cells": [
  {
   "cell_type": "markdown",
   "metadata": {},
   "source": [
    "# Change value of lambda"
   ]
  },
  {
   "cell_type": "code",
   "execution_count": 1,
   "metadata": {},
   "outputs": [],
   "source": [
    "import torch\n",
    "import numpy as np\n",
    "\n",
    "torch.manual_seed(0)\n",
    "np.random.seed(0)"
   ]
  },
  {
   "cell_type": "code",
   "execution_count": 2,
   "metadata": {},
   "outputs": [],
   "source": [
    "# Import libraries\n",
    "import os\n",
    "import xlrd\n",
    "import math\n",
    "import zipfile\n",
    "import numbers\n",
    "import numpy as np\n",
    "import pandas as pd\n",
    "import seaborn as sns\n",
    "import scipy.stats as stats\n",
    "import matplotlib.pyplot as plt\n",
    "from pathlib import Path\n",
    "import time\n",
    "from ctgan.tablegan import TableganSynthesizer\n",
    "from ctgan import CTGANSynthesizer\n",
    "from ctgan import TVAESynthesizer\n",
    "from sklearn.model_selection import train_test_split"
   ]
  },
  {
   "cell_type": "code",
   "execution_count": 3,
   "metadata": {},
   "outputs": [],
   "source": [
    "num_epochs = 300"
   ]
  },
  {
   "cell_type": "code",
   "execution_count": 4,
   "metadata": {},
   "outputs": [],
   "source": [
    "home = str(Path.home())"
   ]
  },
  {
   "cell_type": "code",
   "execution_count": 5,
   "metadata": {},
   "outputs": [
    {
     "data": {
      "text/plain": [
       "'C:\\\\Users\\\\stazt'"
      ]
     },
     "execution_count": 5,
     "metadata": {},
     "output_type": "execute_result"
    }
   ],
   "source": [
    "home"
   ]
  },
  {
   "cell_type": "code",
   "execution_count": 6,
   "metadata": {},
   "outputs": [],
   "source": [
    "# Load cleaned 2016-2018 OVS datasets; replace NAs by -1\n",
    "OVS1618 = pd.read_csv(home + '/Documents/nBox/Project Ultron/Milestone 3/Dataset/Cleaned (Outliers Removed)/Reduced to Benchmarks-1.csv')"
   ]
  },
  {
   "cell_type": "code",
   "execution_count": 7,
   "metadata": {},
   "outputs": [
    {
     "data": {
      "text/html": [
       "<div>\n",
       "<style scoped>\n",
       "    .dataframe tbody tr th:only-of-type {\n",
       "        vertical-align: middle;\n",
       "    }\n",
       "\n",
       "    .dataframe tbody tr th {\n",
       "        vertical-align: top;\n",
       "    }\n",
       "\n",
       "    .dataframe thead th {\n",
       "        text-align: right;\n",
       "    }\n",
       "</style>\n",
       "<table border=\"1\" class=\"dataframe\">\n",
       "  <thead>\n",
       "    <tr style=\"text-align: right;\">\n",
       "      <th></th>\n",
       "      <th>Expenditure on Accommodation (c4.tot.new)</th>\n",
       "      <th>Expenditure on Accommodation (c4.tot.new)_cat</th>\n",
       "      <th>Expenditure on F&amp;B (c6.tot.new)</th>\n",
       "      <th>Expenditure on F&amp;B (c6.tot.new)_cat</th>\n",
       "      <th>Expenditure on Hawker Centre, Food Court or Coffee Shop (c6c_1.r)</th>\n",
       "      <th>Expenditure on Hawker Centre, Food Court or Coffee Shop (c6c_1.r)_cat</th>\n",
       "      <th>Expenditure on Casual Dining (c6c_2.r)</th>\n",
       "      <th>Expenditure on Casual Dining (c6c_2.r)_cat</th>\n",
       "      <th>Expenditure on Transport (c7.tot.new)</th>\n",
       "      <th>Expenditure on Transport (c7.tot.new)_cat</th>\n",
       "      <th>...</th>\n",
       "      <th>Mode of Transport (m1)</th>\n",
       "      <th>Main POV - Leisure/Holiday (b13a_112)</th>\n",
       "      <th>Main POV - Visiting Friends/Family (b13a_114)</th>\n",
       "      <th>Main POV - Business (b13a_116)</th>\n",
       "      <th>Main POV - Healthcare (b113_117)</th>\n",
       "      <th>Main POV - Education/Training/Workshop (b13a_118)</th>\n",
       "      <th>Main POV - Others (b13a_119)</th>\n",
       "      <th>Travel Package (c1a)</th>\n",
       "      <th>Accommodation - Hotels (c4a_1, c4a_2, c4a_3)</th>\n",
       "      <th>Accommodation - Others (c4a_4, c4a_5, c4a_7, c4a_8)</th>\n",
       "    </tr>\n",
       "  </thead>\n",
       "  <tbody>\n",
       "    <tr>\n",
       "      <th>0</th>\n",
       "      <td>679.04</td>\n",
       "      <td>0</td>\n",
       "      <td>400.0</td>\n",
       "      <td>0</td>\n",
       "      <td>-1.0</td>\n",
       "      <td>1</td>\n",
       "      <td>400.0</td>\n",
       "      <td>0</td>\n",
       "      <td>50.0</td>\n",
       "      <td>0</td>\n",
       "      <td>...</td>\n",
       "      <td>1</td>\n",
       "      <td>1</td>\n",
       "      <td>0</td>\n",
       "      <td>0</td>\n",
       "      <td>0</td>\n",
       "      <td>0</td>\n",
       "      <td>0</td>\n",
       "      <td>1</td>\n",
       "      <td>1</td>\n",
       "      <td>0</td>\n",
       "    </tr>\n",
       "    <tr>\n",
       "      <th>1</th>\n",
       "      <td>-1.00</td>\n",
       "      <td>1</td>\n",
       "      <td>130.0</td>\n",
       "      <td>0</td>\n",
       "      <td>100.0</td>\n",
       "      <td>0</td>\n",
       "      <td>30.0</td>\n",
       "      <td>0</td>\n",
       "      <td>100.0</td>\n",
       "      <td>0</td>\n",
       "      <td>...</td>\n",
       "      <td>1</td>\n",
       "      <td>1</td>\n",
       "      <td>1</td>\n",
       "      <td>0</td>\n",
       "      <td>0</td>\n",
       "      <td>0</td>\n",
       "      <td>0</td>\n",
       "      <td>2</td>\n",
       "      <td>0</td>\n",
       "      <td>0</td>\n",
       "    </tr>\n",
       "    <tr>\n",
       "      <th>2</th>\n",
       "      <td>-1.00</td>\n",
       "      <td>1</td>\n",
       "      <td>120.0</td>\n",
       "      <td>0</td>\n",
       "      <td>120.0</td>\n",
       "      <td>0</td>\n",
       "      <td>-1.0</td>\n",
       "      <td>1</td>\n",
       "      <td>40.0</td>\n",
       "      <td>0</td>\n",
       "      <td>...</td>\n",
       "      <td>1</td>\n",
       "      <td>0</td>\n",
       "      <td>0</td>\n",
       "      <td>0</td>\n",
       "      <td>0</td>\n",
       "      <td>0</td>\n",
       "      <td>0</td>\n",
       "      <td>2</td>\n",
       "      <td>0</td>\n",
       "      <td>0</td>\n",
       "    </tr>\n",
       "    <tr>\n",
       "      <th>3</th>\n",
       "      <td>-1.00</td>\n",
       "      <td>1</td>\n",
       "      <td>80.0</td>\n",
       "      <td>0</td>\n",
       "      <td>-1.0</td>\n",
       "      <td>1</td>\n",
       "      <td>80.0</td>\n",
       "      <td>0</td>\n",
       "      <td>100.0</td>\n",
       "      <td>0</td>\n",
       "      <td>...</td>\n",
       "      <td>1</td>\n",
       "      <td>1</td>\n",
       "      <td>1</td>\n",
       "      <td>0</td>\n",
       "      <td>0</td>\n",
       "      <td>0</td>\n",
       "      <td>0</td>\n",
       "      <td>2</td>\n",
       "      <td>0</td>\n",
       "      <td>0</td>\n",
       "    </tr>\n",
       "    <tr>\n",
       "      <th>4</th>\n",
       "      <td>130.00</td>\n",
       "      <td>0</td>\n",
       "      <td>60.0</td>\n",
       "      <td>0</td>\n",
       "      <td>60.0</td>\n",
       "      <td>0</td>\n",
       "      <td>-1.0</td>\n",
       "      <td>1</td>\n",
       "      <td>40.0</td>\n",
       "      <td>0</td>\n",
       "      <td>...</td>\n",
       "      <td>1</td>\n",
       "      <td>1</td>\n",
       "      <td>0</td>\n",
       "      <td>0</td>\n",
       "      <td>0</td>\n",
       "      <td>0</td>\n",
       "      <td>0</td>\n",
       "      <td>2</td>\n",
       "      <td>0</td>\n",
       "      <td>1</td>\n",
       "    </tr>\n",
       "  </tbody>\n",
       "</table>\n",
       "<p>5 rows × 38 columns</p>\n",
       "</div>"
      ],
      "text/plain": [
       "   Expenditure on Accommodation (c4.tot.new)  \\\n",
       "0                                     679.04   \n",
       "1                                      -1.00   \n",
       "2                                      -1.00   \n",
       "3                                      -1.00   \n",
       "4                                     130.00   \n",
       "\n",
       "   Expenditure on Accommodation (c4.tot.new)_cat  \\\n",
       "0                                              0   \n",
       "1                                              1   \n",
       "2                                              1   \n",
       "3                                              1   \n",
       "4                                              0   \n",
       "\n",
       "   Expenditure on F&B (c6.tot.new)  Expenditure on F&B (c6.tot.new)_cat  \\\n",
       "0                            400.0                                    0   \n",
       "1                            130.0                                    0   \n",
       "2                            120.0                                    0   \n",
       "3                             80.0                                    0   \n",
       "4                             60.0                                    0   \n",
       "\n",
       "   Expenditure on Hawker Centre, Food Court or Coffee Shop (c6c_1.r)  \\\n",
       "0                                               -1.0                   \n",
       "1                                              100.0                   \n",
       "2                                              120.0                   \n",
       "3                                               -1.0                   \n",
       "4                                               60.0                   \n",
       "\n",
       "   Expenditure on Hawker Centre, Food Court or Coffee Shop (c6c_1.r)_cat  \\\n",
       "0                                                  1                       \n",
       "1                                                  0                       \n",
       "2                                                  0                       \n",
       "3                                                  1                       \n",
       "4                                                  0                       \n",
       "\n",
       "   Expenditure on Casual Dining (c6c_2.r)  \\\n",
       "0                                   400.0   \n",
       "1                                    30.0   \n",
       "2                                    -1.0   \n",
       "3                                    80.0   \n",
       "4                                    -1.0   \n",
       "\n",
       "   Expenditure on Casual Dining (c6c_2.r)_cat  \\\n",
       "0                                           0   \n",
       "1                                           0   \n",
       "2                                           1   \n",
       "3                                           0   \n",
       "4                                           1   \n",
       "\n",
       "   Expenditure on Transport (c7.tot.new)  \\\n",
       "0                                   50.0   \n",
       "1                                  100.0   \n",
       "2                                   40.0   \n",
       "3                                  100.0   \n",
       "4                                   40.0   \n",
       "\n",
       "   Expenditure on Transport (c7.tot.new)_cat  ...  Mode of Transport (m1)  \\\n",
       "0                                          0  ...                       1   \n",
       "1                                          0  ...                       1   \n",
       "2                                          0  ...                       1   \n",
       "3                                          0  ...                       1   \n",
       "4                                          0  ...                       1   \n",
       "\n",
       "   Main POV - Leisure/Holiday (b13a_112)  \\\n",
       "0                                      1   \n",
       "1                                      1   \n",
       "2                                      0   \n",
       "3                                      1   \n",
       "4                                      1   \n",
       "\n",
       "   Main POV - Visiting Friends/Family (b13a_114)  \\\n",
       "0                                              0   \n",
       "1                                              1   \n",
       "2                                              0   \n",
       "3                                              1   \n",
       "4                                              0   \n",
       "\n",
       "   Main POV - Business (b13a_116)  Main POV - Healthcare (b113_117)  \\\n",
       "0                               0                                 0   \n",
       "1                               0                                 0   \n",
       "2                               0                                 0   \n",
       "3                               0                                 0   \n",
       "4                               0                                 0   \n",
       "\n",
       "   Main POV - Education/Training/Workshop (b13a_118)  \\\n",
       "0                                                  0   \n",
       "1                                                  0   \n",
       "2                                                  0   \n",
       "3                                                  0   \n",
       "4                                                  0   \n",
       "\n",
       "   Main POV - Others (b13a_119)  Travel Package (c1a)  \\\n",
       "0                             0                     1   \n",
       "1                             0                     2   \n",
       "2                             0                     2   \n",
       "3                             0                     2   \n",
       "4                             0                     2   \n",
       "\n",
       "   Accommodation - Hotels (c4a_1, c4a_2, c4a_3)  \\\n",
       "0                                             1   \n",
       "1                                             0   \n",
       "2                                             0   \n",
       "3                                             0   \n",
       "4                                             0   \n",
       "\n",
       "   Accommodation - Others (c4a_4, c4a_5, c4a_7, c4a_8)  \n",
       "0                                                  0    \n",
       "1                                                  0    \n",
       "2                                                  0    \n",
       "3                                                  0    \n",
       "4                                                  1    \n",
       "\n",
       "[5 rows x 38 columns]"
      ]
     },
     "execution_count": 7,
     "metadata": {},
     "output_type": "execute_result"
    }
   ],
   "source": [
    "OVS1618.head()"
   ]
  },
  {
   "cell_type": "code",
   "execution_count": 8,
   "metadata": {},
   "outputs": [
    {
     "data": {
      "text/plain": [
       "(66030, 38)"
      ]
     },
     "execution_count": 8,
     "metadata": {},
     "output_type": "execute_result"
    }
   ],
   "source": [
    "OVS1618.shape"
   ]
  },
  {
   "cell_type": "code",
   "execution_count": 9,
   "metadata": {},
   "outputs": [],
   "source": [
    "# List of 14 expenditure variables\n",
    "list_expnd = ['Expenditure on Accommodation (c4.tot.new)',\n",
    "              'Expenditure on F&B (c6.tot.new)',\n",
    "              'Expenditure on Hawker Centre, Food Court or Coffee Shop (c6c_1.r)',\n",
    "              'Expenditure on Casual Dining (c6c_2.r)',\n",
    "              'Expenditure on Transport (c7.tot.new)', \n",
    "              'Expenditure on Sightseeing & Entertainment (c10.tot.new)',\n",
    "              'Expenditure on Sightseeing (c10c_1.r)',\n",
    "              'Expenditure on Attractions (c10c_2.r)',\n",
    "              'Expenditure on Shopping (t7.m.any)',          \n",
    "              'Expenditure on Healthcare & Wellness Products (t7.m.well)',\n",
    "              'Expenditure on Confectionery & Food Items (t7.m.food)',\n",
    "              'Expenditure on Fashion (t7.m.fash)',\n",
    "              'Expenditure on Other Shopping Items (t7.m.gift + t7.m.oth)',\n",
    "              'Package Expenditure Per Person (c1b.r)']\n",
    "\n",
    "# List of 10 categorical variables\n",
    "list_cat = ['Mode of Transport (m1)',\n",
    "            'Main POV - Leisure/Holiday (b13a_112)',\n",
    "            'Main POV - Visiting Friends/Family (b13a_114)',\n",
    "            'Main POV - Business (b13a_116)',\n",
    "            'Main POV - Healthcare (b113_117)',\n",
    "            'Main POV - Education/Training/Workshop (b13a_118)',\n",
    "            'Main POV - Others (b13a_119)',\n",
    "            'Travel Package (c1a)',\n",
    "            'Accommodation - Hotels (c4a_1, c4a_2, c4a_3)',\n",
    "            'Accommodation - Others (c4a_4, c4a_5, c4a_7, c4a_8)']"
   ]
  },
  {
   "cell_type": "code",
   "execution_count": 10,
   "metadata": {},
   "outputs": [],
   "source": [
    "with open(home + '/Documents/nBox/Project Ultron/Milestone 3/Dataset/Cleaned (Outliers Removed)/binary_categorical_columns.txt',\"r+\")   as f:\n",
    "    new_cat_list = f.read().splitlines() "
   ]
  },
  {
   "cell_type": "code",
   "execution_count": 11,
   "metadata": {},
   "outputs": [
    {
     "data": {
      "text/plain": [
       "['Expenditure on Accommodation (c4.tot.new)_cat',\n",
       " 'Expenditure on F&B (c6.tot.new)_cat',\n",
       " 'Expenditure on Hawker Centre, Food Court or Coffee Shop (c6c_1.r)_cat',\n",
       " 'Expenditure on Casual Dining (c6c_2.r)_cat',\n",
       " 'Expenditure on Transport (c7.tot.new)_cat',\n",
       " 'Expenditure on Sightseeing & Entertainment (c10.tot.new)_cat',\n",
       " 'Expenditure on Sightseeing (c10c_1.r)_cat',\n",
       " 'Expenditure on Attractions (c10c_2.r)_cat',\n",
       " 'Expenditure on Shopping (t7.m.any)_cat',\n",
       " 'Expenditure on Healthcare & Wellness Products (t7.m.well)_cat',\n",
       " 'Expenditure on Confectionery & Food Items (t7.m.food)_cat',\n",
       " 'Expenditure on Fashion (t7.m.fash)_cat',\n",
       " 'Expenditure on Other Shopping Items (t7.m.gift + t7.m.oth)_cat',\n",
       " 'Package Expenditure Per Person (c1b.r)_cat']"
      ]
     },
     "execution_count": 11,
     "metadata": {},
     "output_type": "execute_result"
    }
   ],
   "source": [
    "new_cat_list"
   ]
  },
  {
   "cell_type": "code",
   "execution_count": 12,
   "metadata": {},
   "outputs": [],
   "source": [
    "cat_cols = new_cat_list + list_cat"
   ]
  },
  {
   "cell_type": "code",
   "execution_count": 13,
   "metadata": {},
   "outputs": [
    {
     "data": {
      "text/plain": [
       "24"
      ]
     },
     "execution_count": 13,
     "metadata": {},
     "output_type": "execute_result"
    }
   ],
   "source": [
    "len(cat_cols)"
   ]
  },
  {
   "cell_type": "code",
   "execution_count": 14,
   "metadata": {},
   "outputs": [],
   "source": [
    "## split data into training/validation/test\n",
    "OVS1618_train_val, OVS1618_test = train_test_split(OVS1618, test_size=0.15, random_state=42)"
   ]
  },
  {
   "cell_type": "code",
   "execution_count": 15,
   "metadata": {},
   "outputs": [
    {
     "data": {
      "text/plain": [
       "(56125, 38)"
      ]
     },
     "execution_count": 15,
     "metadata": {},
     "output_type": "execute_result"
    }
   ],
   "source": [
    "OVS1618_train_val.shape"
   ]
  },
  {
   "cell_type": "code",
   "execution_count": 16,
   "metadata": {},
   "outputs": [
    {
     "data": {
      "text/plain": [
       "(9905, 38)"
      ]
     },
     "execution_count": 16,
     "metadata": {},
     "output_type": "execute_result"
    }
   ],
   "source": [
    "OVS1618_test.shape"
   ]
  },
  {
   "cell_type": "markdown",
   "metadata": {},
   "source": [
    "# First Five categorical columns"
   ]
  },
  {
   "cell_type": "markdown",
   "metadata": {},
   "source": [
    "# lambda = 5"
   ]
  },
  {
   "cell_type": "code",
   "execution_count": 17,
   "metadata": {
    "scrolled": true
   },
   "outputs": [
    {
     "name": "stdout",
     "output_type": "stream",
     "text": [
      "Training CTGAN is starting\n",
      "Learning rate:  0.0002\n",
      "Batch size:  500\n",
      "Number of Epochs:  300\n",
      "training data shape:  (46247, 5)\n",
      "validation data shape:  (9878, 5)\n",
      "transformed data shape:  (46247, 10)\n",
      "data dimension: 10\n",
      "Dropout rate:  0.5\n",
      "Epoch 1, Loss G: 0.4710, Loss D: -0.1691\n",
      "Epoch 2, Loss G: 0.3374, Loss D: -0.0357\n",
      "Epoch 3, Loss G: 0.3442, Loss D: -0.0922\n",
      "Epoch 4, Loss G: -0.0180, Loss D: -0.1295\n",
      "Epoch 5, Loss G: -0.0964, Loss D: -0.1401\n",
      "Epoch 6, Loss G: -0.3670, Loss D: -0.0735\n",
      "Epoch 7, Loss G: -0.3391, Loss D: 0.1411\n",
      "Epoch 8, Loss G: -0.2399, Loss D: -0.3148\n",
      "Epoch 9, Loss G: -0.2464, Loss D: -0.0440\n",
      "Epoch 10, Loss G: -0.5120, Loss D: 0.1200\n",
      "Epoch 11, Loss G: -0.4850, Loss D: -0.1385\n",
      "Epoch 12, Loss G: -0.9992, Loss D: -0.1785\n",
      "Epoch 13, Loss G: -0.7807, Loss D: -0.0533\n",
      "Epoch 14, Loss G: -0.8018, Loss D: -0.1297\n",
      "Epoch 15, Loss G: -0.8823, Loss D: -0.2903\n",
      "Epoch 16, Loss G: -0.9411, Loss D: 0.2497\n",
      "Epoch 17, Loss G: -0.8771, Loss D: 0.0276\n",
      "Epoch 18, Loss G: -0.9714, Loss D: -0.0280\n",
      "Epoch 19, Loss G: -0.7906, Loss D: -0.0718\n",
      "Epoch 20, Loss G: -0.5823, Loss D: -0.2380\n",
      "Epoch 21, Loss G: -0.5918, Loss D: -0.0320\n",
      "Epoch 22, Loss G: -1.0514, Loss D: -0.0816\n",
      "Epoch 23, Loss G: -0.6261, Loss D: -0.0061\n",
      "Epoch 24, Loss G: -0.7762, Loss D: 0.0608\n",
      "Epoch 25, Loss G: -0.7274, Loss D: -0.2106\n",
      "Epoch 26, Loss G: -0.7183, Loss D: 0.1604\n",
      "Epoch 27, Loss G: -0.8061, Loss D: -0.3591\n",
      "Epoch 28, Loss G: -1.1935, Loss D: -0.0495\n",
      "Epoch 29, Loss G: -0.9467, Loss D: 0.0124\n",
      "Epoch 30, Loss G: -0.7853, Loss D: 0.0539\n",
      "Epoch 31, Loss G: -1.2388, Loss D: 0.0553\n",
      "Epoch 32, Loss G: -0.9051, Loss D: -0.0164\n",
      "Epoch 33, Loss G: -0.7832, Loss D: 0.0136\n",
      "Epoch 34, Loss G: -0.8898, Loss D: -0.0591\n",
      "Epoch 35, Loss G: -0.6075, Loss D: 0.0671\n",
      "Epoch 36, Loss G: -0.5891, Loss D: 0.3648\n",
      "Epoch 37, Loss G: -0.7790, Loss D: 0.0771\n",
      "Epoch 38, Loss G: -0.7444, Loss D: 0.0267\n",
      "Epoch 39, Loss G: -0.8926, Loss D: -0.1864\n",
      "Epoch 40, Loss G: -1.2049, Loss D: -0.1659\n",
      "Epoch 41, Loss G: -1.3079, Loss D: 0.1787\n",
      "Epoch 42, Loss G: -1.3452, Loss D: -0.1378\n",
      "Epoch 43, Loss G: -1.1788, Loss D: -0.1196\n",
      "Epoch 44, Loss G: -1.0915, Loss D: -0.0471\n",
      "Epoch 45, Loss G: -0.9711, Loss D: -0.0546\n",
      "Epoch 46, Loss G: -1.0305, Loss D: 0.0357\n",
      "Epoch 47, Loss G: -0.9144, Loss D: -0.1887\n",
      "Epoch 48, Loss G: -0.8292, Loss D: -0.0571\n",
      "Epoch 49, Loss G: -1.1582, Loss D: 0.0136\n",
      "Epoch 50, Loss G: -1.1871, Loss D: 0.0547\n",
      "Epoch 51, Loss G: -1.0108, Loss D: -0.1720\n",
      "Epoch 52, Loss G: -1.0462, Loss D: -0.0151\n",
      "Epoch 53, Loss G: -1.0736, Loss D: -0.1578\n",
      "Epoch 54, Loss G: -1.0348, Loss D: 0.0127\n",
      "Epoch 55, Loss G: -0.9450, Loss D: -0.3256\n",
      "Epoch 56, Loss G: -0.9469, Loss D: 0.2398\n",
      "Epoch 57, Loss G: -0.7828, Loss D: 0.2376\n",
      "Epoch 58, Loss G: -0.8878, Loss D: -0.1045\n",
      "Epoch 59, Loss G: -0.6956, Loss D: -0.0091\n",
      "Epoch 60, Loss G: -0.7766, Loss D: 0.1133\n",
      "Epoch 61, Loss G: -1.0569, Loss D: -0.0299\n",
      "Epoch 62, Loss G: -0.7679, Loss D: -0.1600\n",
      "Epoch 63, Loss G: -0.6958, Loss D: -0.1118\n",
      "Epoch 64, Loss G: -0.5017, Loss D: -0.1877\n",
      "Epoch 65, Loss G: -0.4895, Loss D: 0.4641\n",
      "Epoch 66, Loss G: -0.5698, Loss D: -0.0415\n",
      "Epoch 67, Loss G: -0.3739, Loss D: 0.2178\n",
      "Epoch 68, Loss G: -0.4552, Loss D: 0.0310\n",
      "Epoch 69, Loss G: -0.2947, Loss D: -0.0655\n",
      "Epoch 70, Loss G: -0.4672, Loss D: 0.0839\n",
      "Epoch 71, Loss G: -0.7142, Loss D: -0.2436\n",
      "Epoch 72, Loss G: -0.5051, Loss D: -0.1160\n",
      "Epoch 73, Loss G: -0.5930, Loss D: 0.1451\n",
      "Epoch 74, Loss G: -0.8552, Loss D: -0.0342\n",
      "Epoch 75, Loss G: -0.6986, Loss D: -0.3099\n",
      "Epoch 76, Loss G: -0.5510, Loss D: -0.1616\n",
      "Epoch 77, Loss G: -0.5280, Loss D: -0.0407\n",
      "Epoch 78, Loss G: -0.4196, Loss D: -0.2414\n",
      "Epoch 79, Loss G: -0.7076, Loss D: -0.0722\n",
      "Epoch 80, Loss G: -0.9199, Loss D: 0.0677\n",
      "Epoch 81, Loss G: -0.7934, Loss D: -0.0672\n",
      "Epoch 82, Loss G: -0.5290, Loss D: -0.0591\n",
      "Epoch 83, Loss G: -0.4621, Loss D: -0.3785\n",
      "Epoch 84, Loss G: -0.6351, Loss D: -0.0680\n",
      "Epoch 85, Loss G: -0.6249, Loss D: 0.0395\n",
      "Epoch 86, Loss G: -0.3736, Loss D: -0.2441\n",
      "Epoch 87, Loss G: -0.3809, Loss D: 0.0004\n",
      "Epoch 88, Loss G: -0.8588, Loss D: -0.1090\n",
      "Epoch 89, Loss G: -0.6887, Loss D: -0.1231\n",
      "Epoch 90, Loss G: -0.6483, Loss D: 0.0600\n",
      "Epoch 91, Loss G: -0.7928, Loss D: 0.0725\n",
      "Epoch 92, Loss G: -1.0913, Loss D: -0.0221\n",
      "Epoch 93, Loss G: -0.9516, Loss D: 0.3489\n",
      "Epoch 94, Loss G: -0.6215, Loss D: -0.0438\n",
      "Epoch 95, Loss G: -0.6102, Loss D: -0.0659\n",
      "Epoch 96, Loss G: -0.8180, Loss D: -0.2992\n",
      "Epoch 97, Loss G: -1.0859, Loss D: 0.0704\n",
      "Epoch 98, Loss G: -0.8600, Loss D: 0.0803\n",
      "Epoch 99, Loss G: -0.7258, Loss D: -0.2064\n",
      "Epoch 100, Loss G: -0.5602, Loss D: -0.1654\n"
     ]
    }
   ],
   "source": [
    "ctgan = CTGANSynthesizer()\n",
    "print('Training CTGAN is starting')\n",
    "start_time = time.time()\n",
    "ctgan.fit(OVS1618_train_val[cat_cols[0:5]], discrete_columns=cat_cols[0:5], epochs=100, model_summary=False, trans=\"VGM\",use_cond_gen=True)\n",
    "elapsed_time = time.time() - start_time"
   ]
  },
  {
   "cell_type": "code",
   "execution_count": 18,
   "metadata": {},
   "outputs": [
    {
     "data": {
      "image/png": "[encoded data removed]",
      "text/plain": [
       "<Figure size 864x288 with 2 Axes>"
      ]
     },
     "metadata": {
      "needs_background": "light"
     },
     "output_type": "display_data"
    }
   ],
   "source": [
    "fig, ax = plt.subplots(1, 2, figsize=(12,4))\n",
    "ax[0].plot(ctgan.generator_loss,'-g')\n",
    "ax[0].set_title('Generator Loss')\n",
    "\n",
    "ax[1].plot(ctgan.discriminator_loss,':b')\n",
    "ax[1].set_title('Discriminator Loss');"
   ]
  },
  {
   "cell_type": "markdown",
   "metadata": {},
   "source": [
    "# lambda = 15"
   ]
  },
  {
   "cell_type": "code",
   "execution_count": 17,
   "metadata": {
    "scrolled": true
   },
   "outputs": [
    {
     "name": "stdout",
     "output_type": "stream",
     "text": [
      "Training CTGAN is starting\n",
      "Learning rate:  0.0002\n",
      "Batch size:  500\n",
      "Number of Epochs:  300\n",
      "training data shape:  (46247, 5)\n",
      "validation data shape:  (9878, 5)\n",
      "transformed data shape:  (46247, 10)\n",
      "data dimension: 10\n",
      "Dropout rate:  0.5\n",
      "Epoch 1, Loss G: 0.4514, Loss D: -0.1675\n",
      "Epoch 2, Loss G: 0.3472, Loss D: -0.0332\n",
      "Epoch 3, Loss G: 0.3487, Loss D: -0.0499\n",
      "Epoch 4, Loss G: 0.0503, Loss D: -0.1169\n",
      "Epoch 5, Loss G: 0.0565, Loss D: -0.1289\n",
      "Epoch 6, Loss G: -0.2903, Loss D: -0.0815\n",
      "Epoch 7, Loss G: -0.3146, Loss D: 0.1574\n",
      "Epoch 8, Loss G: -0.2159, Loss D: -0.3216\n",
      "Epoch 9, Loss G: -0.3259, Loss D: -0.0692\n",
      "Epoch 10, Loss G: -0.5707, Loss D: 0.1165\n",
      "Epoch 11, Loss G: -0.6057, Loss D: -0.1675\n",
      "Epoch 12, Loss G: -0.9415, Loss D: -0.1488\n",
      "Epoch 13, Loss G: -0.6700, Loss D: 0.0171\n",
      "Epoch 14, Loss G: -0.6787, Loss D: -0.1585\n",
      "Epoch 15, Loss G: -0.6782, Loss D: -0.2111\n",
      "Epoch 16, Loss G: -0.5901, Loss D: 0.2521\n",
      "Epoch 17, Loss G: -0.5172, Loss D: 0.2238\n",
      "Epoch 18, Loss G: -0.7931, Loss D: -0.0536\n",
      "Epoch 19, Loss G: -0.7523, Loss D: -0.0890\n",
      "Epoch 20, Loss G: -0.6950, Loss D: -0.2665\n",
      "Epoch 21, Loss G: -0.5714, Loss D: 0.0380\n",
      "Epoch 22, Loss G: -0.6257, Loss D: -0.1490\n",
      "Epoch 23, Loss G: -0.4928, Loss D: 0.0886\n",
      "Epoch 24, Loss G: -0.5737, Loss D: 0.0805\n",
      "Epoch 25, Loss G: -0.4345, Loss D: -0.2805\n",
      "Epoch 26, Loss G: -0.5723, Loss D: 0.1323\n",
      "Epoch 27, Loss G: -0.5671, Loss D: -0.3556\n",
      "Epoch 28, Loss G: -0.6271, Loss D: -0.1500\n",
      "Epoch 29, Loss G: -0.5627, Loss D: -0.0994\n",
      "Epoch 30, Loss G: -0.5239, Loss D: 0.2567\n",
      "Epoch 31, Loss G: -0.6129, Loss D: 0.2219\n",
      "Epoch 32, Loss G: -0.3962, Loss D: -0.1052\n",
      "Epoch 33, Loss G: -0.4327, Loss D: 0.1462\n",
      "Epoch 34, Loss G: -0.4021, Loss D: -0.0946\n",
      "Epoch 35, Loss G: -0.3842, Loss D: 0.2289\n",
      "Epoch 36, Loss G: -0.2620, Loss D: 0.4342\n",
      "Epoch 37, Loss G: -0.5852, Loss D: 0.0348\n",
      "Epoch 38, Loss G: -0.5653, Loss D: 0.0168\n",
      "Epoch 39, Loss G: -0.6288, Loss D: -0.1723\n",
      "Epoch 40, Loss G: -1.0791, Loss D: -0.2829\n",
      "Epoch 41, Loss G: -1.2216, Loss D: 0.2349\n",
      "Epoch 42, Loss G: -1.2046, Loss D: -0.1577\n",
      "Epoch 43, Loss G: -1.0474, Loss D: -0.1202\n",
      "Epoch 44, Loss G: -0.8774, Loss D: -0.0733\n",
      "Epoch 45, Loss G: -0.7593, Loss D: -0.1568\n",
      "Epoch 46, Loss G: -0.8225, Loss D: -0.1352\n",
      "Epoch 47, Loss G: -0.7138, Loss D: -0.0740\n",
      "Epoch 48, Loss G: -0.6974, Loss D: 0.0662\n",
      "Epoch 49, Loss G: -0.8008, Loss D: -0.0162\n",
      "Epoch 50, Loss G: -0.7332, Loss D: -0.1154\n",
      "Epoch 51, Loss G: -0.5603, Loss D: 0.1154\n",
      "Epoch 52, Loss G: -0.7205, Loss D: 0.0454\n",
      "Epoch 53, Loss G: -0.7692, Loss D: -0.1898\n",
      "Epoch 54, Loss G: -0.7754, Loss D: 0.0924\n",
      "Epoch 55, Loss G: -0.6817, Loss D: -0.3275\n",
      "Epoch 56, Loss G: -0.6771, Loss D: 0.2033\n",
      "Epoch 57, Loss G: -0.6085, Loss D: -0.0026\n",
      "Epoch 58, Loss G: -0.5721, Loss D: 0.0454\n",
      "Epoch 59, Loss G: -0.5591, Loss D: -0.0760\n",
      "Epoch 60, Loss G: -0.7162, Loss D: 0.0208\n",
      "Epoch 61, Loss G: -0.9332, Loss D: 0.0377\n",
      "Epoch 62, Loss G: -0.4727, Loss D: -0.3080\n",
      "Epoch 63, Loss G: -0.4545, Loss D: -0.2408\n",
      "Epoch 64, Loss G: -0.5302, Loss D: -0.2172\n",
      "Epoch 65, Loss G: -0.6487, Loss D: 0.4356\n",
      "Epoch 66, Loss G: -0.3756, Loss D: 0.0520\n",
      "Epoch 67, Loss G: -0.3088, Loss D: 0.1698\n",
      "Epoch 68, Loss G: -0.4112, Loss D: -0.1987\n",
      "Epoch 69, Loss G: -0.5167, Loss D: -0.1532\n",
      "Epoch 70, Loss G: -0.5833, Loss D: 0.1321\n",
      "Epoch 71, Loss G: -0.5385, Loss D: -0.2565\n",
      "Epoch 72, Loss G: -0.3643, Loss D: -0.2026\n",
      "Epoch 73, Loss G: -0.7988, Loss D: 0.0657\n",
      "Epoch 74, Loss G: -0.7316, Loss D: 0.0240\n",
      "Epoch 75, Loss G: -0.4498, Loss D: -0.2377\n",
      "Epoch 76, Loss G: -0.2993, Loss D: -0.2366\n",
      "Epoch 77, Loss G: -0.3708, Loss D: -0.0173\n",
      "Epoch 78, Loss G: -0.2764, Loss D: -0.3328\n",
      "Epoch 79, Loss G: -0.3395, Loss D: -0.0367\n",
      "Epoch 80, Loss G: -0.8845, Loss D: 0.0778\n",
      "Epoch 81, Loss G: -0.5235, Loss D: 0.0414\n",
      "Epoch 82, Loss G: -0.4205, Loss D: -0.0047\n",
      "Epoch 83, Loss G: -0.3499, Loss D: -0.4445\n",
      "Epoch 84, Loss G: -0.5006, Loss D: 0.0170\n",
      "Epoch 85, Loss G: -0.4420, Loss D: -0.0562\n",
      "Epoch 86, Loss G: -0.2034, Loss D: -0.1116\n",
      "Epoch 87, Loss G: -0.3411, Loss D: -0.2077\n",
      "Epoch 88, Loss G: -0.7904, Loss D: -0.0441\n",
      "Epoch 89, Loss G: -0.6546, Loss D: -0.2131\n",
      "Epoch 90, Loss G: -0.7534, Loss D: -0.0519\n",
      "Epoch 91, Loss G: -0.6407, Loss D: 0.0065\n",
      "Epoch 92, Loss G: -0.9028, Loss D: -0.2785\n",
      "Epoch 93, Loss G: -0.8402, Loss D: 0.3203\n",
      "Epoch 94, Loss G: -0.3475, Loss D: 0.3117\n",
      "Epoch 95, Loss G: -0.5835, Loss D: -0.0080\n",
      "Epoch 96, Loss G: -0.5440, Loss D: -0.3714\n",
      "Epoch 97, Loss G: -0.7404, Loss D: -0.0545\n",
      "Epoch 98, Loss G: -0.7505, Loss D: -0.0046\n",
      "Epoch 99, Loss G: -0.7557, Loss D: -0.2293\n",
      "Epoch 100, Loss G: -0.3199, Loss D: 0.1077\n"
     ]
    }
   ],
   "source": [
    "ctgan = CTGANSynthesizer()\n",
    "print('Training CTGAN is starting')\n",
    "start_time = time.time()\n",
    "ctgan.fit(OVS1618_train_val[cat_cols[0:5]], discrete_columns=cat_cols[0:5], epochs=100, model_summary=False, trans=\"VGM\",use_cond_gen=True)\n",
    "elapsed_time = time.time() - start_time"
   ]
  },
  {
   "cell_type": "code",
   "execution_count": 18,
   "metadata": {},
   "outputs": [
    {
     "data": {
      "image/png": "[encoded data removed]",
      "text/plain": [
       "<Figure size 864x288 with 2 Axes>"
      ]
     },
     "metadata": {
      "needs_background": "light"
     },
     "output_type": "display_data"
    }
   ],
   "source": [
    "fig, ax = plt.subplots(1, 2, figsize=(12,4))\n",
    "ax[0].plot(ctgan.generator_loss,'-g')\n",
    "ax[0].set_title('Generator Loss')\n",
    "\n",
    "ax[1].plot(ctgan.discriminator_loss,':b')\n",
    "ax[1].set_title('Discriminator Loss');"
   ]
  },
  {
   "cell_type": "code",
   "execution_count": null,
   "metadata": {},
   "outputs": [],
   "source": []
  }
 ],
 "metadata": {
  "kernelspec": {
   "display_name": "Python 3",
   "language": "python",
   "name": "python3"
  },
  "language_info": {
   "codemirror_mode": {
    "name": "ipython",
    "version": 3
   },
   "file_extension": ".py",
   "mimetype": "text/x-python",
   "name": "python",
   "nbconvert_exporter": "python",
   "pygments_lexer": "ipython3",
   "version": "3.8.5"
  }
 },
 "nbformat": 4,
 "nbformat_minor": 4
}
